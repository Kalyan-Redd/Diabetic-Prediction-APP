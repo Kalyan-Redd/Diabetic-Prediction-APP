{
  "cells": [
    {
      "cell_type": "code",
      "execution_count": 2,
      "metadata": {
        "id": "t8t-bRkE7Y-o"
      },
      "outputs": [],
      "source": [
        "#prepare a machine learning model to predict whether the person is foffering from diabetes or not\n",
        "#classification problem"
      ]
    },
    {
      "cell_type": "code",
      "execution_count": 1,
      "metadata": {
        "id": "h3FnMipS7k5a"
      },
      "outputs": [
        {
          "name": "stdout",
          "output_type": "stream",
          "text": [
            "WARNING:tensorflow:From c:\\Users\\LENOVO\\anaconda3\\envs\\ml_env\\lib\\site-packages\\keras\\src\\losses.py:2976: The name tf.losses.sparse_softmax_cross_entropy is deprecated. Please use tf.compat.v1.losses.sparse_softmax_cross_entropy instead.\n",
            "\n"
          ]
        }
      ],
      "source": [
        "# importing libraries\n",
        "import numpy as np\n",
        "import pandas as pd\n",
        "import tensorflow as tf\n",
        "from sklearn.preprocessing import StandardScaler\n",
        "from sklearn.model_selection import train_test_split\n",
        "from sklearn.metrics import accuracy_score, confusion_matrix, classification_report, precision_score, recall_score, f1_score\n",
        "import joblib"
      ]
    },
    {
      "cell_type": "code",
      "execution_count": 2,
      "metadata": {
        "id": "wmtHllPn-qI3"
      },
      "outputs": [],
      "source": [
        "from tensorflow import keras"
      ]
    },
    {
      "cell_type": "code",
      "execution_count": 3,
      "metadata": {
        "colab": {
          "base_uri": "https://localhost:8080/",
          "height": 206
        },
        "id": "y6RV3JH09Rdu",
        "outputId": "9823fef3-4032-4db5-ef16-b3a3fdd24c4f"
      },
      "outputs": [
        {
          "data": {
            "text/html": [
              "<div>\n",
              "<style scoped>\n",
              "    .dataframe tbody tr th:only-of-type {\n",
              "        vertical-align: middle;\n",
              "    }\n",
              "\n",
              "    .dataframe tbody tr th {\n",
              "        vertical-align: top;\n",
              "    }\n",
              "\n",
              "    .dataframe thead th {\n",
              "        text-align: right;\n",
              "    }\n",
              "</style>\n",
              "<table border=\"1\" class=\"dataframe\">\n",
              "  <thead>\n",
              "    <tr style=\"text-align: right;\">\n",
              "      <th></th>\n",
              "      <th>Pregnancies</th>\n",
              "      <th>Glucose</th>\n",
              "      <th>BloodPressure</th>\n",
              "      <th>SkinThickness</th>\n",
              "      <th>Insulin</th>\n",
              "      <th>BMI</th>\n",
              "      <th>DiabetesPedigreeFunction</th>\n",
              "      <th>Age</th>\n",
              "      <th>Outcome</th>\n",
              "    </tr>\n",
              "  </thead>\n",
              "  <tbody>\n",
              "    <tr>\n",
              "      <th>0</th>\n",
              "      <td>6</td>\n",
              "      <td>148</td>\n",
              "      <td>72</td>\n",
              "      <td>35</td>\n",
              "      <td>0</td>\n",
              "      <td>33.6</td>\n",
              "      <td>0.627</td>\n",
              "      <td>50</td>\n",
              "      <td>1</td>\n",
              "    </tr>\n",
              "    <tr>\n",
              "      <th>1</th>\n",
              "      <td>1</td>\n",
              "      <td>85</td>\n",
              "      <td>66</td>\n",
              "      <td>29</td>\n",
              "      <td>0</td>\n",
              "      <td>26.6</td>\n",
              "      <td>0.351</td>\n",
              "      <td>31</td>\n",
              "      <td>0</td>\n",
              "    </tr>\n",
              "    <tr>\n",
              "      <th>2</th>\n",
              "      <td>8</td>\n",
              "      <td>183</td>\n",
              "      <td>64</td>\n",
              "      <td>0</td>\n",
              "      <td>0</td>\n",
              "      <td>23.3</td>\n",
              "      <td>0.672</td>\n",
              "      <td>32</td>\n",
              "      <td>1</td>\n",
              "    </tr>\n",
              "    <tr>\n",
              "      <th>3</th>\n",
              "      <td>1</td>\n",
              "      <td>89</td>\n",
              "      <td>66</td>\n",
              "      <td>23</td>\n",
              "      <td>94</td>\n",
              "      <td>28.1</td>\n",
              "      <td>0.167</td>\n",
              "      <td>21</td>\n",
              "      <td>0</td>\n",
              "    </tr>\n",
              "    <tr>\n",
              "      <th>4</th>\n",
              "      <td>0</td>\n",
              "      <td>137</td>\n",
              "      <td>40</td>\n",
              "      <td>35</td>\n",
              "      <td>168</td>\n",
              "      <td>43.1</td>\n",
              "      <td>2.288</td>\n",
              "      <td>33</td>\n",
              "      <td>1</td>\n",
              "    </tr>\n",
              "  </tbody>\n",
              "</table>\n",
              "</div>"
            ],
            "text/plain": [
              "   Pregnancies  Glucose  BloodPressure  SkinThickness  Insulin   BMI  \\\n",
              "0            6      148             72             35        0  33.6   \n",
              "1            1       85             66             29        0  26.6   \n",
              "2            8      183             64              0        0  23.3   \n",
              "3            1       89             66             23       94  28.1   \n",
              "4            0      137             40             35      168  43.1   \n",
              "\n",
              "   DiabetesPedigreeFunction  Age  Outcome  \n",
              "0                     0.627   50        1  \n",
              "1                     0.351   31        0  \n",
              "2                     0.672   32        1  \n",
              "3                     0.167   21        0  \n",
              "4                     2.288   33        1  "
            ]
          },
          "execution_count": 3,
          "metadata": {},
          "output_type": "execute_result"
        }
      ],
      "source": [
        "df = pd.read_csv(\"diabetes.csv\")\n",
        "df.head()\n"
      ]
    },
    {
      "cell_type": "code",
      "execution_count": 4,
      "metadata": {
        "colab": {
          "base_uri": "https://localhost:8080/"
        },
        "id": "1AmXqU4N9WaK",
        "outputId": "95301cdc-6475-4c0c-c3fb-7573f6e704f0"
      },
      "outputs": [
        {
          "data": {
            "text/plain": [
              "(768, 9)"
            ]
          },
          "execution_count": 4,
          "metadata": {},
          "output_type": "execute_result"
        }
      ],
      "source": [
        "df.shape # no of rows and columns\n"
      ]
    },
    {
      "cell_type": "code",
      "execution_count": 5,
      "metadata": {
        "colab": {
          "base_uri": "https://localhost:8080/"
        },
        "id": "eFHAMtkH9bgq",
        "outputId": "d39aa918-8e5a-45a6-d866-7f775f29f837"
      },
      "outputs": [
        {
          "name": "stdout",
          "output_type": "stream",
          "text": [
            "<class 'pandas.core.frame.DataFrame'>\n",
            "RangeIndex: 768 entries, 0 to 767\n",
            "Data columns (total 9 columns):\n",
            " #   Column                    Non-Null Count  Dtype  \n",
            "---  ------                    --------------  -----  \n",
            " 0   Pregnancies               768 non-null    int64  \n",
            " 1   Glucose                   768 non-null    int64  \n",
            " 2   BloodPressure             768 non-null    int64  \n",
            " 3   SkinThickness             768 non-null    int64  \n",
            " 4   Insulin                   768 non-null    int64  \n",
            " 5   BMI                       768 non-null    float64\n",
            " 6   DiabetesPedigreeFunction  768 non-null    float64\n",
            " 7   Age                       768 non-null    int64  \n",
            " 8   Outcome                   768 non-null    int64  \n",
            "dtypes: float64(2), int64(7)\n",
            "memory usage: 54.1 KB\n"
          ]
        }
      ],
      "source": [
        "#basic info of dataset\n",
        "df.info()"
      ]
    },
    {
      "cell_type": "code",
      "execution_count": 6,
      "metadata": {
        "id": "QJk51SmT8Y6L"
      },
      "outputs": [],
      "source": [
        "#didvide the dataset into dependent and independent  variables\n",
        "X = df.drop(columns = \"Outcome\")\n",
        "y = df[\"Outcome\"]"
      ]
    },
    {
      "cell_type": "code",
      "execution_count": 7,
      "metadata": {
        "colab": {
          "base_uri": "https://localhost:8080/",
          "height": 206
        },
        "id": "dXi83BaQ9kMX",
        "outputId": "b18d741e-0d56-415c-8dda-a0da9ffa41cd"
      },
      "outputs": [
        {
          "data": {
            "text/html": [
              "<div>\n",
              "<style scoped>\n",
              "    .dataframe tbody tr th:only-of-type {\n",
              "        vertical-align: middle;\n",
              "    }\n",
              "\n",
              "    .dataframe tbody tr th {\n",
              "        vertical-align: top;\n",
              "    }\n",
              "\n",
              "    .dataframe thead th {\n",
              "        text-align: right;\n",
              "    }\n",
              "</style>\n",
              "<table border=\"1\" class=\"dataframe\">\n",
              "  <thead>\n",
              "    <tr style=\"text-align: right;\">\n",
              "      <th></th>\n",
              "      <th>Pregnancies</th>\n",
              "      <th>Glucose</th>\n",
              "      <th>BloodPressure</th>\n",
              "      <th>SkinThickness</th>\n",
              "      <th>Insulin</th>\n",
              "      <th>BMI</th>\n",
              "      <th>DiabetesPedigreeFunction</th>\n",
              "      <th>Age</th>\n",
              "    </tr>\n",
              "  </thead>\n",
              "  <tbody>\n",
              "    <tr>\n",
              "      <th>0</th>\n",
              "      <td>6</td>\n",
              "      <td>148</td>\n",
              "      <td>72</td>\n",
              "      <td>35</td>\n",
              "      <td>0</td>\n",
              "      <td>33.6</td>\n",
              "      <td>0.627</td>\n",
              "      <td>50</td>\n",
              "    </tr>\n",
              "    <tr>\n",
              "      <th>1</th>\n",
              "      <td>1</td>\n",
              "      <td>85</td>\n",
              "      <td>66</td>\n",
              "      <td>29</td>\n",
              "      <td>0</td>\n",
              "      <td>26.6</td>\n",
              "      <td>0.351</td>\n",
              "      <td>31</td>\n",
              "    </tr>\n",
              "    <tr>\n",
              "      <th>2</th>\n",
              "      <td>8</td>\n",
              "      <td>183</td>\n",
              "      <td>64</td>\n",
              "      <td>0</td>\n",
              "      <td>0</td>\n",
              "      <td>23.3</td>\n",
              "      <td>0.672</td>\n",
              "      <td>32</td>\n",
              "    </tr>\n",
              "    <tr>\n",
              "      <th>3</th>\n",
              "      <td>1</td>\n",
              "      <td>89</td>\n",
              "      <td>66</td>\n",
              "      <td>23</td>\n",
              "      <td>94</td>\n",
              "      <td>28.1</td>\n",
              "      <td>0.167</td>\n",
              "      <td>21</td>\n",
              "    </tr>\n",
              "    <tr>\n",
              "      <th>4</th>\n",
              "      <td>0</td>\n",
              "      <td>137</td>\n",
              "      <td>40</td>\n",
              "      <td>35</td>\n",
              "      <td>168</td>\n",
              "      <td>43.1</td>\n",
              "      <td>2.288</td>\n",
              "      <td>33</td>\n",
              "    </tr>\n",
              "  </tbody>\n",
              "</table>\n",
              "</div>"
            ],
            "text/plain": [
              "   Pregnancies  Glucose  BloodPressure  SkinThickness  Insulin   BMI  \\\n",
              "0            6      148             72             35        0  33.6   \n",
              "1            1       85             66             29        0  26.6   \n",
              "2            8      183             64              0        0  23.3   \n",
              "3            1       89             66             23       94  28.1   \n",
              "4            0      137             40             35      168  43.1   \n",
              "\n",
              "   DiabetesPedigreeFunction  Age  \n",
              "0                     0.627   50  \n",
              "1                     0.351   31  \n",
              "2                     0.672   32  \n",
              "3                     0.167   21  \n",
              "4                     2.288   33  "
            ]
          },
          "execution_count": 7,
          "metadata": {},
          "output_type": "execute_result"
        }
      ],
      "source": [
        "X.head()"
      ]
    },
    {
      "cell_type": "code",
      "execution_count": 8,
      "metadata": {
        "id": "v1u-YC3a9n-V"
      },
      "outputs": [],
      "source": [
        "#normalixze the features\n",
        "scaler = StandardScaler()\n",
        "X = scaler.fit_transform(X)"
      ]
    },
    {
      "cell_type": "code",
      "execution_count": 9,
      "metadata": {
        "colab": {
          "base_uri": "https://localhost:8080/"
        },
        "id": "76zm_oW592Xp",
        "outputId": "6e466aff-de1a-4ecd-d858-c1073be2da90"
      },
      "outputs": [
        {
          "data": {
            "text/plain": [
              "['Scaler.pkl']"
            ]
          },
          "execution_count": 9,
          "metadata": {},
          "output_type": "execute_result"
        }
      ],
      "source": [
        "#save the scalar\n",
        "joblib.dump(scaler, \"Scaler.pkl\")"
      ]
    },
    {
      "cell_type": "code",
      "execution_count": 10,
      "metadata": {
        "id": "PSqHm15D-OfV"
      },
      "outputs": [],
      "source": [
        "X_train,X_test,y_train,y_test = train_test_split(X,y,test_size=0.2,random_state=1)"
      ]
    },
    {
      "cell_type": "code",
      "execution_count": 11,
      "metadata": {
        "id": "YioHz61Y-evL"
      },
      "outputs": [
        {
          "name": "stdout",
          "output_type": "stream",
          "text": [
            "WARNING:tensorflow:From c:\\Users\\LENOVO\\anaconda3\\envs\\ml_env\\lib\\site-packages\\keras\\src\\backend.py:873: The name tf.get_default_graph is deprecated. Please use tf.compat.v1.get_default_graph instead.\n",
            "\n"
          ]
        }
      ],
      "source": [
        "#build\n",
        "model = keras.Sequential([\n",
        "    keras.layers.Dense(16,activation=\"relu\",input_shape = (X.shape[1],)),#input layer\n",
        "    keras.layers.Dense(8,activation=\"relu\"),#hidden layer\n",
        "    keras.layers.Dense(1,activation=\"sigmoid\")#output\n",
        "]\n",
        "\n",
        ")"
      ]
    },
    {
      "cell_type": "code",
      "execution_count": 12,
      "metadata": {
        "colab": {
          "base_uri": "https://localhost:8080/",
          "height": 225
        },
        "id": "3Ma3xg5MARP3",
        "outputId": "462a5f5e-218b-43a4-d284-b3e62194c79c"
      },
      "outputs": [
        {
          "name": "stdout",
          "output_type": "stream",
          "text": [
            "Model: \"sequential\"\n",
            "_________________________________________________________________\n",
            " Layer (type)                Output Shape              Param #   \n",
            "=================================================================\n",
            " dense (Dense)               (None, 16)                144       \n",
            "                                                                 \n",
            " dense_1 (Dense)             (None, 8)                 136       \n",
            "                                                                 \n",
            " dense_2 (Dense)             (None, 1)                 9         \n",
            "                                                                 \n",
            "=================================================================\n",
            "Total params: 289 (1.13 KB)\n",
            "Trainable params: 289 (1.13 KB)\n",
            "Non-trainable params: 0 (0.00 Byte)\n",
            "_________________________________________________________________\n"
          ]
        }
      ],
      "source": [
        "model.summary()#printing the summary of the model"
      ]
    },
    {
      "cell_type": "code",
      "execution_count": 13,
      "metadata": {
        "id": "h9x9k7gBESa9"
      },
      "outputs": [
        {
          "name": "stdout",
          "output_type": "stream",
          "text": [
            "WARNING:tensorflow:From c:\\Users\\LENOVO\\anaconda3\\envs\\ml_env\\lib\\site-packages\\keras\\src\\optimizers\\__init__.py:309: The name tf.train.Optimizer is deprecated. Please use tf.compat.v1.train.Optimizer instead.\n",
            "\n"
          ]
        }
      ],
      "source": [
        "#comploie model\n",
        "model.compile(optimizer = \"adam\",loss = \"binary_crossentropy\")"
      ]
    },
    {
      "cell_type": "code",
      "execution_count": 14,
      "metadata": {
        "colab": {
          "base_uri": "https://localhost:8080/"
        },
        "id": "kn4beH2IFncQ",
        "outputId": "36dbccbc-cc0a-4401-dfe5-837ac94aec3b"
      },
      "outputs": [
        {
          "name": "stdout",
          "output_type": "stream",
          "text": [
            "Epoch 1/50\n",
            "WARNING:tensorflow:From c:\\Users\\LENOVO\\anaconda3\\envs\\ml_env\\lib\\site-packages\\keras\\src\\utils\\tf_utils.py:492: The name tf.ragged.RaggedTensorValue is deprecated. Please use tf.compat.v1.ragged.RaggedTensorValue instead.\n",
            "\n",
            "62/62 [==============================] - 1s 6ms/step - loss: 0.6493 - val_loss: 0.6376\n",
            "Epoch 2/50\n",
            "62/62 [==============================] - 0s 2ms/step - loss: 0.5865 - val_loss: 0.5742\n",
            "Epoch 3/50\n",
            "62/62 [==============================] - 0s 2ms/step - loss: 0.5447 - val_loss: 0.5390\n",
            "Epoch 4/50\n",
            "62/62 [==============================] - 0s 2ms/step - loss: 0.5172 - val_loss: 0.5106\n",
            "Epoch 5/50\n",
            "62/62 [==============================] - 0s 3ms/step - loss: 0.4969 - val_loss: 0.4925\n",
            "Epoch 6/50\n",
            "62/62 [==============================] - 0s 2ms/step - loss: 0.4833 - val_loss: 0.4838\n",
            "Epoch 7/50\n",
            "62/62 [==============================] - 0s 2ms/step - loss: 0.4733 - val_loss: 0.4781\n",
            "Epoch 8/50\n",
            "62/62 [==============================] - 0s 2ms/step - loss: 0.4679 - val_loss: 0.4757\n",
            "Epoch 9/50\n",
            "62/62 [==============================] - 0s 3ms/step - loss: 0.4630 - val_loss: 0.4745\n",
            "Epoch 10/50\n",
            "62/62 [==============================] - 0s 2ms/step - loss: 0.4599 - val_loss: 0.4753\n",
            "Epoch 11/50\n",
            "62/62 [==============================] - 0s 2ms/step - loss: 0.4567 - val_loss: 0.4748\n",
            "Epoch 12/50\n",
            "62/62 [==============================] - 0s 2ms/step - loss: 0.4532 - val_loss: 0.4767\n",
            "Epoch 13/50\n",
            "62/62 [==============================] - 0s 2ms/step - loss: 0.4511 - val_loss: 0.4750\n",
            "Epoch 14/50\n",
            "62/62 [==============================] - 0s 2ms/step - loss: 0.4498 - val_loss: 0.4770\n",
            "Epoch 15/50\n",
            "62/62 [==============================] - 0s 2ms/step - loss: 0.4475 - val_loss: 0.4755\n",
            "Epoch 16/50\n",
            "62/62 [==============================] - 0s 2ms/step - loss: 0.4463 - val_loss: 0.4756\n",
            "Epoch 17/50\n",
            "62/62 [==============================] - 0s 2ms/step - loss: 0.4435 - val_loss: 0.4768\n",
            "Epoch 18/50\n",
            "62/62 [==============================] - 0s 2ms/step - loss: 0.4425 - val_loss: 0.4797\n",
            "Epoch 19/50\n",
            "62/62 [==============================] - 0s 2ms/step - loss: 0.4410 - val_loss: 0.4774\n",
            "Epoch 20/50\n",
            "62/62 [==============================] - 0s 2ms/step - loss: 0.4397 - val_loss: 0.4790\n",
            "Epoch 21/50\n",
            "62/62 [==============================] - 0s 3ms/step - loss: 0.4381 - val_loss: 0.4780\n",
            "Epoch 22/50\n",
            "62/62 [==============================] - 0s 3ms/step - loss: 0.4366 - val_loss: 0.4779\n",
            "Epoch 23/50\n",
            "62/62 [==============================] - 0s 3ms/step - loss: 0.4348 - val_loss: 0.4793\n",
            "Epoch 24/50\n",
            "62/62 [==============================] - 0s 2ms/step - loss: 0.4343 - val_loss: 0.4815\n",
            "Epoch 25/50\n",
            "62/62 [==============================] - 0s 2ms/step - loss: 0.4323 - val_loss: 0.4818\n",
            "Epoch 26/50\n",
            "62/62 [==============================] - 0s 3ms/step - loss: 0.4323 - val_loss: 0.4814\n",
            "Epoch 27/50\n",
            "62/62 [==============================] - 0s 3ms/step - loss: 0.4310 - val_loss: 0.4833\n",
            "Epoch 28/50\n",
            "62/62 [==============================] - 0s 3ms/step - loss: 0.4298 - val_loss: 0.4839\n",
            "Epoch 29/50\n",
            "62/62 [==============================] - 0s 2ms/step - loss: 0.4282 - val_loss: 0.4856\n",
            "Epoch 30/50\n",
            "62/62 [==============================] - 0s 2ms/step - loss: 0.4288 - val_loss: 0.4843\n",
            "Epoch 31/50\n",
            "62/62 [==============================] - 0s 2ms/step - loss: 0.4278 - val_loss: 0.4836\n",
            "Epoch 32/50\n",
            "62/62 [==============================] - 0s 2ms/step - loss: 0.4269 - val_loss: 0.4868\n",
            "Epoch 33/50\n",
            "62/62 [==============================] - 0s 2ms/step - loss: 0.4258 - val_loss: 0.4865\n",
            "Epoch 34/50\n",
            "62/62 [==============================] - 0s 2ms/step - loss: 0.4243 - val_loss: 0.4865\n",
            "Epoch 35/50\n",
            "62/62 [==============================] - 0s 2ms/step - loss: 0.4230 - val_loss: 0.4875\n",
            "Epoch 36/50\n",
            "62/62 [==============================] - 0s 2ms/step - loss: 0.4230 - val_loss: 0.4863\n",
            "Epoch 37/50\n",
            "62/62 [==============================] - 0s 2ms/step - loss: 0.4216 - val_loss: 0.4878\n",
            "Epoch 38/50\n",
            "62/62 [==============================] - 0s 2ms/step - loss: 0.4207 - val_loss: 0.4877\n",
            "Epoch 39/50\n",
            "62/62 [==============================] - 0s 2ms/step - loss: 0.4197 - val_loss: 0.4930\n",
            "Epoch 40/50\n",
            "62/62 [==============================] - 0s 3ms/step - loss: 0.4185 - val_loss: 0.4904\n",
            "Epoch 41/50\n",
            "62/62 [==============================] - 0s 2ms/step - loss: 0.4186 - val_loss: 0.4898\n",
            "Epoch 42/50\n",
            "62/62 [==============================] - 0s 2ms/step - loss: 0.4179 - val_loss: 0.4936\n",
            "Epoch 43/50\n",
            "62/62 [==============================] - 0s 2ms/step - loss: 0.4167 - val_loss: 0.4932\n",
            "Epoch 44/50\n",
            "62/62 [==============================] - 0s 2ms/step - loss: 0.4155 - val_loss: 0.4962\n",
            "Epoch 45/50\n",
            "62/62 [==============================] - 0s 2ms/step - loss: 0.4154 - val_loss: 0.4951\n",
            "Epoch 46/50\n",
            "62/62 [==============================] - 0s 2ms/step - loss: 0.4139 - val_loss: 0.4946\n",
            "Epoch 47/50\n",
            "62/62 [==============================] - 0s 2ms/step - loss: 0.4123 - val_loss: 0.4969\n",
            "Epoch 48/50\n",
            "62/62 [==============================] - 0s 2ms/step - loss: 0.4132 - val_loss: 0.4980\n",
            "Epoch 49/50\n",
            "62/62 [==============================] - 0s 3ms/step - loss: 0.4113 - val_loss: 0.4964\n",
            "Epoch 50/50\n",
            "62/62 [==============================] - 0s 2ms/step - loss: 0.4122 - val_loss: 0.4982\n"
          ]
        },
        {
          "data": {
            "text/plain": [
              "<keras.src.callbacks.History at 0x1e2f73fa920>"
            ]
          },
          "execution_count": 14,
          "metadata": {},
          "output_type": "execute_result"
        }
      ],
      "source": [
        "#trrain model\n",
        "model.fit(X_train,y_train,epochs = 50,batch_size = 10,validation_data = (X_test,y_test))"
      ]
    },
    {
      "cell_type": "code",
      "execution_count": 15,
      "metadata": {
        "colab": {
          "base_uri": "https://localhost:8080/"
        },
        "id": "G19h6iFuF_iX",
        "outputId": "c93534e9-9a72-473e-90a4-b02ec515b9ca"
      },
      "outputs": [
        {
          "name": "stdout",
          "output_type": "stream",
          "text": [
            "5/5 [==============================] - 0s 2ms/step\n"
          ]
        }
      ],
      "source": [
        "#making ppredictions and converting it into integer variables\n",
        "y_predict = model.predict(X_test)\n",
        "y_predict = (y_predict > 0.5).astype(\"int32\")"
      ]
    },
    {
      "cell_type": "code",
      "execution_count": 16,
      "metadata": {
        "id": "mh06BH2OGZou"
      },
      "outputs": [],
      "source": [
        "#calculate the performance metrics\n",
        "accuracy = accuracy_score(y_test,y_predict)\n",
        "precision = precision_score(y_test,y_predict)\n",
        "recall = recall_score(y_test,y_predict)\n",
        "f1 = f1_score(y_test,y_predict)\n",
        "cm = confusion_matrix(y_predict,y_test)\n",
        "cr= classification_report(y_test,y_predict)"
      ]
    },
    {
      "cell_type": "code",
      "execution_count": 17,
      "metadata": {
        "colab": {
          "base_uri": "https://localhost:8080/"
        },
        "id": "jJYa71mkHFXf",
        "outputId": "9b3c0843-a2e8-478f-9dad-a10e91e11519"
      },
      "outputs": [
        {
          "name": "stdout",
          "output_type": "stream",
          "text": [
            "the accuracy of our diabetic prediction model is  0.7857142857142857\n",
            "the precision of our model 0.7391304347826086\n",
            "the recall of our model is  0.6181818181818182\n",
            "the f1 score of our model is  0.6732673267326733\n",
            "the confusion matrix of our model is  [[87 21]\n",
            " [12 34]]\n",
            "************The classification report**********\n",
            "              precision    recall  f1-score   support\n",
            "\n",
            "           0       0.81      0.88      0.84        99\n",
            "           1       0.74      0.62      0.67        55\n",
            "\n",
            "    accuracy                           0.79       154\n",
            "   macro avg       0.77      0.75      0.76       154\n",
            "weighted avg       0.78      0.79      0.78       154\n",
            "\n"
          ]
        }
      ],
      "source": [
        "#print all the performance metrices\n",
        "print(\"the accuracy of our diabetic prediction model is \",accuracy)\n",
        "print(\"the precision of our model\",precision)\n",
        "print(\"the recall of our model is \",recall)\n",
        "print(\"the f1 score of our model is \",f1)\n",
        "print(\"the confusion matrix of our model is \",cm)\n",
        "print(\"************The classification report**********\")\n",
        "print(cr)"
      ]
    },
    {
      "cell_type": "code",
      "execution_count": 18,
      "metadata": {
        "colab": {
          "base_uri": "https://localhost:8080/"
        },
        "id": "vo01SZzQH0DG",
        "outputId": "4ad8ea58-848c-4a0b-ef0a-4df93475a5ba"
      },
      "outputs": [
        {
          "name": "stdout",
          "output_type": "stream",
          "text": [
            "The model has been saved\n"
          ]
        },
        {
          "name": "stderr",
          "output_type": "stream",
          "text": [
            "c:\\Users\\LENOVO\\anaconda3\\envs\\ml_env\\lib\\site-packages\\keras\\src\\engine\\training.py:3103: UserWarning: You are saving your model as an HDF5 file via `model.save()`. This file format is considered legacy. We recommend using instead the native Keras format, e.g. `model.save('my_model.keras')`.\n",
            "  saving_api.save_model(\n"
          ]
        }
      ],
      "source": [
        "model.save(\"Diabetic_model.h5\")\n",
        "print(\"The model has been saved\")"
      ]
    },
    {
      "cell_type": "code",
      "execution_count": null,
      "metadata": {
        "id": "JOD4LuwuOoAc"
      },
      "outputs": [],
      "source": []
    }
  ],
  "metadata": {
    "colab": {
      "provenance": []
    },
    "kernelspec": {
      "display_name": "ml_env",
      "language": "python",
      "name": "python3"
    },
    "language_info": {
      "codemirror_mode": {
        "name": "ipython",
        "version": 3
      },
      "file_extension": ".py",
      "mimetype": "text/x-python",
      "name": "python",
      "nbconvert_exporter": "python",
      "pygments_lexer": "ipython3",
      "version": "3.10.18"
    }
  },
  "nbformat": 4,
  "nbformat_minor": 0
}
